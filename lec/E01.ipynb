{
 "cells": [
  {
   "cell_type": "code",
   "execution_count": 162,
   "metadata": {},
   "outputs": [],
   "source": [
    "### ESTR 2018: Lecture 1 code\n",
    "### runs in python3 (jupyter notebook)\n",
    "\n",
    "from pylab import *             # library for making plots\n",
    "rcParams['figure.figsize'] = [12, 8]"
   ]
  },
  {
   "cell_type": "code",
   "execution_count": 63,
   "metadata": {},
   "outputs": [],
   "source": [
    "# calculate (n choose k)\n",
    "# assumes k is between 0 and n\n",
    "def binom(n, k):\n",
    "    if n == 0:\n",
    "        return 1\n",
    "    logtop = sum([log(i) for i in range(n - k + 1, n + 1)])\n",
    "    logbot = sum([log(i) for i in range(2, k + 1)])\n",
    "    return exp(logtop - logbot)\n",
    "\n",
    "# return probability for an n-step random walk \n",
    "# assumes n is even\n",
    "def returnprob(n):\n",
    "    return binom(n, n // 2) / pow(2.0, n)"
   ]
  },
  {
   "cell_type": "code",
   "execution_count": 64,
   "metadata": {},
   "outputs": [
    {
     "data": {
      "text/plain": [
       "0.07958923738717676"
      ]
     },
     "execution_count": 64,
     "metadata": {},
     "output_type": "execute_result"
    }
   ],
   "source": [
    "returnprob(100)"
   ]
  },
  {
   "cell_type": "code",
   "execution_count": 168,
   "metadata": {},
   "outputs": [
    {
     "data": {
      "text/plain": [
       "[<matplotlib.lines.Line2D at 0x7f85f7504cc0>]"
      ]
     },
     "execution_count": 168,
     "metadata": {},
     "output_type": "execute_result"
    },
    {
     "data": {
      "image/png": "[encoded data removed]",
      "text/plain": [
       "<Figure size 864x576 with 1 Axes>"
      ]
     },
     "metadata": {},
     "output_type": "display_data"
    }
   ],
   "source": [
    "N = range(2, 100, 2)\n",
    "B = [returnprob(n) for n in N]\n",
    "plot(log(N), log(B), '.')"
   ]
  },
  {
   "cell_type": "code",
   "execution_count": 113,
   "metadata": {},
   "outputs": [],
   "source": [
    "# calculate the number of length-k loops that never go negative\n",
    "# for k ranging from 0 to n - 1\n",
    "def posloops(n):\n",
    "    numloops = [1.0]\n",
    "    for k in range(1, n):\n",
    "        numloops.append(sum([numloops[i] * numloops[k - 2 - i] for i in range(k - 1)]))\n",
    "    return numloops\n",
    "\n",
    "# calculate the probability of returning to the origin for the first\n",
    "# time after exactly n steps\n",
    "def firstreturnprob(n):\n",
    "    return 2 * posloops(n - 1)[-1] / pow(2.0, n)"
   ]
  },
  {
   "cell_type": "code",
   "execution_count": 131,
   "metadata": {},
   "outputs": [
    {
     "data": {
      "text/plain": [
       "0.0008039316907795835"
      ]
     },
     "execution_count": 131,
     "metadata": {},
     "output_type": "execute_result"
    }
   ],
   "source": [
    "firstreturnprob(100)"
   ]
  },
  {
   "cell_type": "code",
   "execution_count": 157,
   "metadata": {},
   "outputs": [],
   "source": [
    "# calculate the probability of returning to the origin within k steps\n",
    "# for all k ranging from 0 to n - 1\n",
    "def withinprob(n):\n",
    "    numloops = posloops(n)\n",
    "    firstreturnprobs = [2 * numloops[k - 2] / pow(2.0, k) for k in range(1, n)]\n",
    "    cumprobs = [0.0]\n",
    "    for p in firstreturnprobs:\n",
    "        cumprobs.append(cumprobs[-1] + p)\n",
    "    return cumprobs"
   ]
  },
  {
   "cell_type": "code",
   "execution_count": 166,
   "metadata": {},
   "outputs": [
    {
     "data": {
      "image/png": "[encoded data removed]",
      "text/plain": [
       "<Figure size 864x576 with 1 Axes>"
      ]
     },
     "metadata": {},
     "output_type": "display_data"
    }
   ],
   "source": [
    "plot(range(100), withinprob(100), '.')"
   ]
  },
  {
   "cell_type": "code",
   "execution_count": null,
   "metadata": {},
   "outputs": [],
   "source": []
  }
 ],
 "metadata": {
  "kernelspec": {
   "display_name": "Python 3",
   "language": "python",
   "name": "python3"
  },
  "language_info": {
   "codemirror_mode": {
    "name": "ipython",
    "version": 3
   },
   "file_extension": ".py",
   "mimetype": "text/x-python",
   "name": "python",
   "nbconvert_exporter": "python",
   "pygments_lexer": "ipython3",
   "version": "3.6.8"
  }
 },
 "nbformat": 4,
 "nbformat_minor": 2
}